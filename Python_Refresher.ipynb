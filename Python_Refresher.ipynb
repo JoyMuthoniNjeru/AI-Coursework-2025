{
 "cells": [
  {
   "cell_type": "markdown",
   "id": "0c8bf41a-3bc3-4cfe-9f20-b63c85ab66f5",
   "metadata": {},
   "source": [
    "# Q1: Program to calculate the number of seconds in given days"
   ]
  },
  {
   "cell_type": "code",
   "execution_count": 9,
   "id": "1de775d4-5038-49e6-88f7-a4c8fe0a3841",
   "metadata": {},
   "outputs": [
    {
     "name": "stdin",
     "output_type": "stream",
     "text": [
      "Enter number of days:  2\n"
     ]
    }
   ],
   "source": [
    "# Asking for number of days\n",
    "days = int(input(\"Enter number of days: \"))"
   ]
  },
  {
   "cell_type": "code",
   "execution_count": 10,
   "id": "e0510ea3-4a07-433a-b71a-6f1cd420a3ea",
   "metadata": {},
   "outputs": [],
   "source": [
    "# Calculate seconds\n",
    "seconds = days*24*60*60"
   ]
  },
  {
   "cell_type": "code",
   "execution_count": 11,
   "id": "479742c4-5a90-4262-bee6-a705266458a7",
   "metadata": {},
   "outputs": [
    {
     "name": "stdout",
     "output_type": "stream",
     "text": [
      "There are 172800 seconds in 2 day/days.\n"
     ]
    }
   ],
   "source": [
    "# Print results\n",
    "print(f\"There are {seconds} seconds in {days} day/days.\")"
   ]
  },
  {
   "cell_type": "markdown",
   "id": "e3ae111a-4051-43cf-b1e6-474255a842a2",
   "metadata": {},
   "source": [
    "# Q2: Program to calculate volume of a sphere"
   ]
  },
  {
   "cell_type": "code",
   "execution_count": 8,
   "id": "c6ae6ef6-f753-474d-aaa4-258ff71ae187",
   "metadata": {},
   "outputs": [],
   "source": [
    "# Import math library\n",
    "import math"
   ]
  },
  {
   "cell_type": "code",
   "execution_count": 12,
   "id": "d28f477d-dad4-419a-9783-6df48c18383c",
   "metadata": {},
   "outputs": [
    {
     "name": "stdin",
     "output_type": "stream",
     "text": [
      "Enter the radius of the sphere:  3.14\n"
     ]
    }
   ],
   "source": [
    "radius = float(input(\"Enter the radius of the sphere: \"))"
   ]
  },
  {
   "cell_type": "code",
   "execution_count": 14,
   "id": "46bae2c5-fd1b-4531-94cf-a8cd864bf322",
   "metadata": {},
   "outputs": [],
   "source": [
    "# Compute the volume\n",
    "volume = (4/3) * math.pi * (radius ** 3)"
   ]
  },
  {
   "cell_type": "code",
   "execution_count": 15,
   "id": "8906796b-66ef-4ffd-ac43-972cdc29824a",
   "metadata": {},
   "outputs": [
    {
     "name": "stdout",
     "output_type": "stream",
     "text": [
      "The volume of a sphere with radius 3.14 is 129.68\n"
     ]
    }
   ],
   "source": [
    "# Display result\n",
    "print(f\"The volume of a sphere with radius {radius} is {volume:.2f}\")"
   ]
  },
  {
   "cell_type": "markdown",
   "id": "2c34235d-f3ab-4ea1-b232-ea828f5094d7",
   "metadata": {},
   "source": [
    "# Q3: Program to compute the area and perimeter of a square"
   ]
  },
  {
   "cell_type": "code",
   "execution_count": 16,
   "id": "1f488358-6b8f-48c2-8d25-d7b7f9eb2307",
   "metadata": {},
   "outputs": [],
   "source": [
    "# Define function to calculate area\n",
    "def square_area(side):\n",
    "    return side*side"
   ]
  },
  {
   "cell_type": "code",
   "execution_count": 17,
   "id": "320b1903-d9ef-4072-a813-487d2528b4c8",
   "metadata": {},
   "outputs": [],
   "source": [
    "# Define function to calculate perimeter\n",
    "def square_perimeter(side):\n",
    "    return 4*side"
   ]
  },
  {
   "cell_type": "code",
   "execution_count": 19,
   "id": "676f2d0a-2842-467f-9500-bafe01d02f1a",
   "metadata": {},
   "outputs": [
    {
     "name": "stdin",
     "output_type": "stream",
     "text": [
      "Enter the side length of the square:  3\n"
     ]
    }
   ],
   "source": [
    "# Ask user to input side length\n",
    "side_length = float(input(\"Enter the side length of the square: \"))"
   ]
  },
  {
   "cell_type": "code",
   "execution_count": 20,
   "id": "d195dedd-5113-4678-846a-28920be0265e",
   "metadata": {},
   "outputs": [],
   "source": [
    "# Call functions\n",
    "area = square_area(side_length)\n",
    "perimeter = square_perimeter(side_length)"
   ]
  },
  {
   "cell_type": "code",
   "execution_count": 21,
   "id": "70eb59dd-3e10-4d9e-b42d-2b62e2bc634c",
   "metadata": {},
   "outputs": [
    {
     "name": "stdout",
     "output_type": "stream",
     "text": [
      "Square with side 3.0:\n",
      " Area = 9.0\n",
      " Perimeter = 12.0\n"
     ]
    }
   ],
   "source": [
    "# Print results\n",
    "print(f\"Square with side {side_length}:\")\n",
    "print(f\" Area = {area}\")\n",
    "print(f\" Perimeter = {perimeter}\")"
   ]
  },
  {
   "cell_type": "markdown",
   "id": "28fd7478-0068-48ff-a0fd-15c831d68d71",
   "metadata": {},
   "source": [
    "# Q4: Program to check typecase of a character"
   ]
  },
  {
   "cell_type": "code",
   "execution_count": 22,
   "id": "b6aca4b9-b028-4cd0-ab4d-3731c874dd7b",
   "metadata": {},
   "outputs": [],
   "source": [
    "# Define function to check character case\n",
    "def check_case(ch):\n",
    "    if ch.isupper(): #returns true if character is uppercase\n",
    "        return \"Uppercase\"\n",
    "    elif ch.islower(): #returns true if character is lowercase\n",
    "        return \"Lowecase\"\n",
    "    else:\n",
    "        return \"Not a letter\""
   ]
  },
  {
   "cell_type": "code",
   "execution_count": 23,
   "id": "2c66f9ea-8eaa-4048-98c2-bc6efae12ca6",
   "metadata": {},
   "outputs": [
    {
     "name": "stdin",
     "output_type": "stream",
     "text": [
      "Enter a single character:  d\n"
     ]
    }
   ],
   "source": [
    "# Ask user to input a character\n",
    "char = input(\"Enter a single character: \")"
   ]
  },
  {
   "cell_type": "code",
   "execution_count": 24,
   "id": "25042d85-2713-47a3-9481-ce69d71d50b4",
   "metadata": {},
   "outputs": [
    {
     "name": "stdout",
     "output_type": "stream",
     "text": [
      "The character 'd' is Lowecase.\n"
     ]
    }
   ],
   "source": [
    "# Ensure only a single character inputed\n",
    "if len(char) == 1:\n",
    "    result = check_case(char)\n",
    "    print(f\"The character '{char}' is {result}.\")\n",
    "else:\n",
    "    print(f\"Please enter only ONE character.\")"
   ]
  },
  {
   "cell_type": "markdown",
   "id": "39930116-7ca2-4453-bfd8-add2debbef20",
   "metadata": {},
   "source": [
    "# Q5: Convert pseudocode to python"
   ]
  },
  {
   "cell_type": "code",
   "execution_count": 2,
   "id": "866b05f9-3892-41ee-bca9-f9f36325b3bd",
   "metadata": {},
   "outputs": [],
   "source": [
    "# Initialize variables\n",
    "x = 0\n",
    "y = 20"
   ]
  },
  {
   "cell_type": "code",
   "execution_count": 3,
   "id": "ac832d9e-d412-4660-bc13-ab50a2508305",
   "metadata": {},
   "outputs": [],
   "source": [
    "# Use while loop\n",
    "while y >= 6:\n",
    "    y = y-4\n",
    "    x = x+(2/y)"
   ]
  },
  {
   "cell_type": "code",
   "execution_count": 4,
   "id": "ac0b7d21-c15d-4fa0-a6d9-d2026d20661d",
   "metadata": {},
   "outputs": [
    {
     "name": "stdout",
     "output_type": "stream",
     "text": [
      "Final value of x: 1.0416666666666665\n"
     ]
    }
   ],
   "source": [
    "print(\"Final value of x:\",x)"
   ]
  },
  {
   "cell_type": "markdown",
   "id": "64b4b6b6-392e-4ff5-96c5-5424428b4040",
   "metadata": {},
   "source": [
    "# Q6: Program to calculate values inputed"
   ]
  },
  {
   "cell_type": "code",
   "execution_count": 5,
   "id": "5f72858b-3fd6-494a-8cd0-32b638e465b8",
   "metadata": {},
   "outputs": [],
   "source": [
    "values = []"
   ]
  },
  {
   "cell_type": "code",
   "execution_count": 6,
   "id": "13ff26cf-0a42-4922-9c56-c730c3405ea7",
   "metadata": {},
   "outputs": [
    {
     "name": "stdin",
     "output_type": "stream",
     "text": [
      "Enter value 1:  2\n",
      "Enter value 2:  3\n",
      "Enter value 3:  4\n",
      "Enter value 4:  4\n",
      "Enter value 5:  5\n"
     ]
    }
   ],
   "source": [
    "# Loop\n",
    "for i in range(5):\n",
    "    num = float(input(f\"Enter value {i+1}: \"))\n",
    "    values.append(num) #adding to the list"
   ]
  },
  {
   "cell_type": "code",
   "execution_count": 8,
   "id": "5331ebd4-296d-44ae-9fc9-0e1f506f4183",
   "metadata": {},
   "outputs": [],
   "source": [
    "# Calculate average\n",
    "average = sum(values)/len(values)"
   ]
  },
  {
   "cell_type": "code",
   "execution_count": 10,
   "id": "77c226de-0951-468d-be57-6e09406122af",
   "metadata": {},
   "outputs": [
    {
     "name": "stdout",
     "output_type": "stream",
     "text": [
      "Values entered: [2.0, 3.0, 4.0, 4.0, 5.0]\n",
      "Average of values: 3.6\n"
     ]
    }
   ],
   "source": [
    "# Display result\n",
    "print(\"Values entered:\", values)\n",
    "print(\"Average of values:\", average)"
   ]
  },
  {
   "cell_type": "markdown",
   "id": "b29530e9-d5ff-4201-983a-06fff67063c4",
   "metadata": {},
   "source": [
    "# Q7: Codility challenge\n",
    "\n",
    "Below is the screenshots of the challenge analysis\n",
    "\n",
    "![Codility Screenshot](\"C:\\Users\\mutho\\OneDrive\\Documents\\School\\3.2\\Artificial Intelligence\\Codility 1.png\") (\"C:\\Users\\mutho\\OneDrive\\Documents\\School\\3.2\\Artificial Intelligence\\Codility 2.png\") (\"C:\\Users\\mutho\\OneDrive\\Documents\\School\\3.2\\Artificial Intelligence\\Codility 3.png\") (\"C:\\Users\\mutho\\OneDrive\\Documents\\School\\3.2\\Artificial Intelligence\\Codility 4.png\")"
   ]
  },
  {
   "cell_type": "code",
   "execution_count": null,
   "id": "3a4458f2-4bd7-416e-8b30-0999c9818421",
   "metadata": {},
   "outputs": [],
   "source": []
  }
 ],
 "metadata": {
  "kernelspec": {
   "display_name": "Python [conda env:base] *",
   "language": "python",
   "name": "conda-base-py"
  },
  "language_info": {
   "codemirror_mode": {
    "name": "ipython",
    "version": 3
   },
   "file_extension": ".py",
   "mimetype": "text/x-python",
   "name": "python",
   "nbconvert_exporter": "python",
   "pygments_lexer": "ipython3",
   "version": "3.13.5"
  }
 },
 "nbformat": 4,
 "nbformat_minor": 5
}
